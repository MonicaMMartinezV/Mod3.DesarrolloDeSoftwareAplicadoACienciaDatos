{
 "cells": [
  {
   "cell_type": "markdown",
   "id": "73a81c2f",
   "metadata": {},
   "source": [
    "# TC 3006B Inteligencia artificial avanzada para la ciencia de datos I \n",
    "# CIFAR-10 Data Preparation (PyTorch)\n",
    "## Feedback\n",
    "\n",
    "## Deep Learning -- Data Cleaning \n",
    "\n",
    "### Objective: Load CIFAR-10, explore data, compute per-channel statistics (mean & std), normalize images, and verify normalization. \n",
    "\n",
    "### Instructions\n",
    "- Focus on data preparation, analysis, data is not usually as nice as CIFAR10 is. Model training follows as explained in classes.\n",
    "- Write comments and reflections in the indicated, verify you answer questions in Markdown cells.\n",
    "- Keep your code clean, reproducible, and well‑commented.\n"
   ]
  },
  {
   "cell_type": "markdown",
   "id": "2f37f400",
   "metadata": {},
   "source": [
    "\n",
    "## Environment & Reproducibility\n"
   ]
  },
  {
   "cell_type": "code",
   "execution_count": 55,
   "id": "7debc0c3",
   "metadata": {},
   "outputs": [
    {
     "name": "stdout",
     "output_type": "stream",
     "text": [
      "Collecting seaborn\n",
      "  Downloading seaborn-0.13.2-py3-none-any.whl.metadata (5.4 kB)\n",
      "Collecting numpy!=1.24.0,>=1.20 (from seaborn)\n",
      "  Downloading numpy-2.2.6-cp310-cp310-manylinux_2_17_x86_64.manylinux2014_x86_64.whl.metadata (62 kB)\n",
      "Collecting pandas>=1.2 (from seaborn)\n",
      "  Downloading pandas-2.3.2-cp310-cp310-manylinux_2_17_x86_64.manylinux2014_x86_64.whl.metadata (91 kB)\n",
      "Collecting matplotlib!=3.6.1,>=3.4 (from seaborn)\n",
      "  Downloading matplotlib-3.10.5-cp310-cp310-manylinux2014_x86_64.manylinux_2_17_x86_64.whl.metadata (11 kB)\n",
      "Collecting contourpy>=1.0.1 (from matplotlib!=3.6.1,>=3.4->seaborn)\n",
      "  Downloading contourpy-1.3.2-cp310-cp310-manylinux_2_17_x86_64.manylinux2014_x86_64.whl.metadata (5.5 kB)\n",
      "Collecting cycler>=0.10 (from matplotlib!=3.6.1,>=3.4->seaborn)\n",
      "  Downloading cycler-0.12.1-py3-none-any.whl.metadata (3.8 kB)\n",
      "Collecting fonttools>=4.22.0 (from matplotlib!=3.6.1,>=3.4->seaborn)\n",
      "  Downloading fonttools-4.59.2-cp310-cp310-manylinux2014_x86_64.manylinux_2_17_x86_64.whl.metadata (109 kB)\n",
      "Collecting kiwisolver>=1.3.1 (from matplotlib!=3.6.1,>=3.4->seaborn)\n",
      "  Downloading kiwisolver-1.4.9-cp310-cp310-manylinux_2_12_x86_64.manylinux2010_x86_64.whl.metadata (6.3 kB)\n",
      "Collecting packaging>=20.0 (from matplotlib!=3.6.1,>=3.4->seaborn)\n",
      "  Downloading packaging-25.0-py3-none-any.whl.metadata (3.3 kB)\n",
      "Collecting pillow>=8 (from matplotlib!=3.6.1,>=3.4->seaborn)\n",
      "  Downloading pillow-11.3.0-cp310-cp310-manylinux_2_27_x86_64.manylinux_2_28_x86_64.whl.metadata (9.0 kB)\n",
      "Collecting pyparsing>=2.3.1 (from matplotlib!=3.6.1,>=3.4->seaborn)\n",
      "  Downloading pyparsing-3.2.3-py3-none-any.whl.metadata (5.0 kB)\n",
      "Collecting python-dateutil>=2.7 (from matplotlib!=3.6.1,>=3.4->seaborn)\n",
      "  Downloading python_dateutil-2.9.0.post0-py2.py3-none-any.whl.metadata (8.4 kB)\n",
      "Collecting pytz>=2020.1 (from pandas>=1.2->seaborn)\n",
      "  Downloading pytz-2025.2-py2.py3-none-any.whl.metadata (22 kB)\n",
      "Collecting tzdata>=2022.7 (from pandas>=1.2->seaborn)\n",
      "  Downloading tzdata-2025.2-py2.py3-none-any.whl.metadata (1.4 kB)\n",
      "Collecting six>=1.5 (from python-dateutil>=2.7->matplotlib!=3.6.1,>=3.4->seaborn)\n",
      "  Downloading six-1.17.0-py2.py3-none-any.whl.metadata (1.7 kB)\n",
      "Downloading seaborn-0.13.2-py3-none-any.whl (294 kB)\n",
      "Downloading matplotlib-3.10.5-cp310-cp310-manylinux2014_x86_64.manylinux_2_17_x86_64.whl (8.7 MB)\n",
      "\u001b[2K   \u001b[38;2;114;156;31m━━━━━━━━━━━━━━━━━━━━━━━━━━━━━━━━━━━━━━━━\u001b[0m \u001b[32m8.7/8.7 MB\u001b[0m \u001b[31m6.3 MB/s\u001b[0m  \u001b[33m0:00:01\u001b[0m6.3 MB/s\u001b[0m eta \u001b[36m0:00:01\u001b[0m:01\u001b[0m\n",
      "\u001b[?25hDownloading contourpy-1.3.2-cp310-cp310-manylinux_2_17_x86_64.manylinux2014_x86_64.whl (325 kB)\n",
      "Downloading cycler-0.12.1-py3-none-any.whl (8.3 kB)\n",
      "Downloading fonttools-4.59.2-cp310-cp310-manylinux2014_x86_64.manylinux_2_17_x86_64.whl (4.8 MB)\n",
      "\u001b[2K   \u001b[38;2;114;156;31m━━━━━━━━━━━━━━━━━━━━━━━━━━━━━━━━━━━━━━━━\u001b[0m \u001b[32m4.8/4.8 MB\u001b[0m \u001b[31m7.5 MB/s\u001b[0m  \u001b[33m0:00:00\u001b[0m7.5 MB/s\u001b[0m eta \u001b[36m0:00:01\u001b[0m:01\u001b[0m\n",
      "\u001b[?25hDownloading kiwisolver-1.4.9-cp310-cp310-manylinux_2_12_x86_64.manylinux2010_x86_64.whl (1.6 MB)\n",
      "\u001b[2K   \u001b[38;2;114;156;31m━━━━━━━━━━━━━━━━━━━━━━━━━━━━━━━━━━━━━━━━\u001b[0m \u001b[32m1.6/1.6 MB\u001b[0m \u001b[31m5.9 MB/s\u001b[0m  \u001b[33m0:00:00\u001b[0m6.3 MB/s\u001b[0m eta \u001b[36m0:00:01\u001b[0m\n",
      "\u001b[?25hDownloading numpy-2.2.6-cp310-cp310-manylinux_2_17_x86_64.manylinux2014_x86_64.whl (16.8 MB)\n",
      "\u001b[2K   \u001b[38;2;114;156;31m━━━━━━━━━━━━━━━━━━━━━━━━━━━━━━━━━━━━━━━━\u001b[0m \u001b[32m16.8/16.8 MB\u001b[0m \u001b[31m7.2 MB/s\u001b[0m  \u001b[33m0:00:02\u001b[0m7.2 MB/s\u001b[0m eta \u001b[36m0:00:01\u001b[0m:01\u001b[0m\n",
      "\u001b[?25hDownloading packaging-25.0-py3-none-any.whl (66 kB)\n",
      "Downloading pandas-2.3.2-cp310-cp310-manylinux_2_17_x86_64.manylinux2014_x86_64.whl (12.3 MB)\n",
      "\u001b[2K   \u001b[38;2;114;156;31m━━━━━━━━━━━━━━━━━━━━━━━━━━━━━━━━━━━━━━━━\u001b[0m \u001b[32m12.3/12.3 MB\u001b[0m \u001b[31m6.0 MB/s\u001b[0m  \u001b[33m0:00:02\u001b[0ma \u001b[36m0:00:01\u001b[0mm eta \u001b[36m0:00:01\u001b[0m\n",
      "\u001b[?25hDownloading pillow-11.3.0-cp310-cp310-manylinux_2_27_x86_64.manylinux_2_28_x86_64.whl (6.6 MB)\n",
      "\u001b[2K   \u001b[38;2;114;156;31m━━━━━━━━━━━━━━━━━━━━━━━━━━━━━━━━━━━━━━━━\u001b[0m \u001b[32m6.6/6.6 MB\u001b[0m \u001b[31m7.4 MB/s\u001b[0m  \u001b[33m0:00:00\u001b[0mm \u001b[31m7.4 MB/s\u001b[0m eta \u001b[36m0:00:01\u001b[0m\n",
      "\u001b[?25hDownloading pyparsing-3.2.3-py3-none-any.whl (111 kB)\n",
      "Downloading python_dateutil-2.9.0.post0-py2.py3-none-any.whl (229 kB)\n",
      "Downloading pytz-2025.2-py2.py3-none-any.whl (509 kB)\n",
      "Downloading six-1.17.0-py2.py3-none-any.whl (11 kB)\n",
      "Downloading tzdata-2025.2-py2.py3-none-any.whl (347 kB)\n",
      "Installing collected packages: pytz, tzdata, six, pyparsing, pillow, packaging, numpy, kiwisolver, fonttools, cycler, python-dateutil, contourpy, pandas, matplotlib, seaborn\n",
      "\u001b[2K   \u001b[38;2;114;156;31m━━━━━━━━━━━━━━━━━━━━━━━━━━━━━━━━━━━━━━━━\u001b[0m \u001b[32m15/15\u001b[0m [seaborn]━\u001b[0m \u001b[32m14/15\u001b[0m [seaborn]atplotlib]\n",
      "\u001b[1A\u001b[2KSuccessfully installed contourpy-1.3.2 cycler-0.12.1 fonttools-4.59.1 kiwisolver-1.4.9 matplotlib-3.10.5 numpy-2.1.2 packaging-25.0 pandas-2.3.2 pillow-11.0.0 pyparsing-3.2.3 python-dateutil-2.9.0.post0 pytz-2025.2 seaborn-0.13.2 six-1.17.0 tzdata-2025.2\n",
      "\n",
      "\u001b[1m[\u001b[0m\u001b[34;49mnotice\u001b[0m\u001b[1;39;49m]\u001b[0m\u001b[39;49m A new release of pip is available: \u001b[0m\u001b[31;49m22.0.2\u001b[0m\u001b[39;49m -> \u001b[0m\u001b[32;49m25.2\u001b[0m\n",
      "\u001b[1m[\u001b[0m\u001b[34;49mnotice\u001b[0m\u001b[1;39;49m]\u001b[0m\u001b[39;49m To update, run: \u001b[0m\u001b[32;49mpip install --upgrade pip\u001b[0m\n",
      "Note: you may need to restart the kernel to use updated packages.\n"
     ]
    }
   ],
   "source": [
    "%pip install seaborn"
   ]
  },
  {
   "cell_type": "code",
   "execution_count": 56,
   "id": "ec560c6e",
   "metadata": {},
   "outputs": [
    {
     "name": "stdout",
     "output_type": "stream",
     "text": [
      "cpu\n"
     ]
    }
   ],
   "source": [
    "# Install libraries as needed, if using Colab, maybe all good\n",
    "\n",
    "import os, json, random, math, time\n",
    "from pathlib import Path\n",
    "import numpy as np\n",
    "import torch\n",
    "from torch.utils.data import DataLoader\n",
    "import torchvision\n",
    "from torchvision import datasets, transforms\n",
    "import matplotlib.pyplot as plt\n",
    "import seaborn as sns\n",
    "from collections import Counter\n",
    "\n",
    "##########################################\n",
    "SEED = 42 #for reproducibility \n",
    "random.seed(SEED)\n",
    "np.random.seed(SEED)\n",
    "torch.manual_seed(SEED)\n",
    "torch.cuda.manual_seed_all(SEED)\n",
    "###########################################\n",
    "\n",
    "device = torch.device(\"cuda\" if torch.cuda.is_available() else \"cpu\")\n",
    "print(device)\n"
   ]
  },
  {
   "cell_type": "markdown",
   "id": "35aef7ec",
   "metadata": {},
   "source": [
    "\n",
    "## Download & Load CIFAR-10 (Train/Test Splits)\n"
   ]
  },
  {
   "cell_type": "markdown",
   "id": "bfac9233",
   "metadata": {},
   "source": [
    "To become familiar with the __PyTorch framework__, the __CIFAR-10__ dataset will be uploaded, its elements converted to __PyTorch Tensors__, and then split into train and test sets."
   ]
  },
  {
   "cell_type": "code",
   "execution_count": 35,
   "id": "57f40a48",
   "metadata": {},
   "outputs": [
    {
     "data": {
      "text/plain": [
       "('Train: 50000', 'Test: 10000', 'Train shape: (50000, 32, 32, 3)')"
      ]
     },
     "execution_count": 35,
     "metadata": {},
     "output_type": "execute_result"
    }
   ],
   "source": [
    "# Maybe obvious, adjust path according to your needs\n",
    "DATA_DIR = Path(\"./cifar-10-batches-py\") \n",
    "DATA_DIR.mkdir(parents=True, exist_ok=True)\n",
    "\n",
    "# Base transform for statistics: convert to tensor only (no normalization/augmentations yet)\n",
    "base_transform = transforms.ToTensor()\n",
    "\n",
    "#Data set splt\n",
    "train_set = datasets.CIFAR10(root=DATA_DIR, train=True, download=True, transform=base_transform)\n",
    "test_set  = datasets.CIFAR10(root=DATA_DIR, train=False, download=True, transform=base_transform)\n",
    "\n",
    "# Dimensions of train and test set \n",
    "f\"Train: {len(train_set)}\", f\"Test: {len(test_set)}\", f\"Train shape: {train_set.data.shape}\"\n"
   ]
  },
  {
   "cell_type": "markdown",
   "id": "8b690d52",
   "metadata": {},
   "source": [
    "Based on the split, the training and testing sets have the following dimensions:\n",
    "\n",
    "- Training set: 50,000 images\n",
    "\n",
    "- Testing set: 10,000 images\n",
    "\n",
    "The shape of the training set indicates that each image is 32 pixels in height and 32 pixels in width, with three color channels: Red, Green, and Blue."
   ]
  },
  {
   "cell_type": "markdown",
   "id": "f2e74507",
   "metadata": {},
   "source": [
    "### Original Sample vs Tensor Transformation"
   ]
  },
  {
   "cell_type": "markdown",
   "id": "6b6918cb",
   "metadata": {},
   "source": [
    "After the dataset is uploaded, a transformation is applied to each element. This transformation, using the PyTorch framework, converts each image into a PyTorch tensor via `transforms.ToTensor()`.\n",
    "\n",
    "To understand what this framework transformation does, it's important to compare the data before and after the transformation."
   ]
  },
  {
   "cell_type": "code",
   "execution_count": 37,
   "id": "5673f74e",
   "metadata": {},
   "outputs": [
    {
     "name": "stdout",
     "output_type": "stream",
     "text": [
      "ORIGINAL IMAGE DATA\n",
      "Shape: (32, 32, 3)\n",
      "Data type: uint8\n",
      "Value range:0 - 255\n",
      "\n",
      "TENSOR DATA\n",
      "Shape: torch.Size([3, 32, 32])\n",
      "Data type: torch.float32\n",
      "Value range:0.0 - 1.0\n"
     ]
    }
   ],
   "source": [
    "# original image and tensor obtention\n",
    "original_image = train_set.data[0]\n",
    "img_tensor, label = train_set[0]\n",
    "# Showing original image data\n",
    "print(\"ORIGINAL IMAGE DATA\")\n",
    "print(f\"Shape: {original_image.shape}\")\n",
    "print(f\"Data type: {original_image.dtype}\")\n",
    "print(f\"Value range:{original_image.min().item()} - {original_image.max().item()}\")\n",
    "# Showing tensor data\n",
    "print(\"\\nTENSOR DATA\")\n",
    "print(f\"Shape: {img_tensor.shape}\")\n",
    "print(f\"Data type: {img_tensor.dtype}\")\n",
    "print(f\"Value range:{img_tensor.min().item()} - {img_tensor.max().item()}\")"
   ]
  },
  {
   "cell_type": "markdown",
   "id": "e6b91be4",
   "metadata": {},
   "source": [
    "Based on the previous data, the PyTorch transformation applies the following changes:\n",
    "\n",
    "- Dimension Transpose: `(H, W, C)` becomes `(C, H, W)`\n",
    "- Data Type Conversion: `uint8` becomes `float32`\n",
    "\n",
    "Besides the more evident transformations, a third one needs to be explained: __value normalization__. Before the transformation, the value range for each color channel is from 0 to 255. However, once the image is converted into a __PyTorch Tensor__, the value for each color channel of every pixel is normalized to a range between 0.0 and 1.0."
   ]
  },
  {
   "cell_type": "markdown",
   "id": "3acc4311",
   "metadata": {},
   "source": [
    "\n",
    "### Explore de dataset\n"
   ]
  },
  {
   "cell_type": "code",
   "execution_count": 5,
   "id": "4850847d",
   "metadata": {},
   "outputs": [
    {
     "data": {
      "text/plain": [
       "['airplane',\n",
       " 'automobile',\n",
       " 'bird',\n",
       " 'cat',\n",
       " 'deer',\n",
       " 'dog',\n",
       " 'frog',\n",
       " 'horse',\n",
       " 'ship',\n",
       " 'truck']"
      ]
     },
     "execution_count": 5,
     "metadata": {},
     "output_type": "execute_result"
    }
   ],
   "source": [
    "classes = train_set.classes\n",
    "classes"
   ]
  },
  {
   "cell_type": "code",
   "execution_count": 21,
   "id": "ea442996",
   "metadata": {},
   "outputs": [
    {
     "data": {
      "image/png": "[encoded data removed]",
      "text/plain": [
       "<Figure size 750x250 with 3 Axes>"
      ]
     },
     "metadata": {},
     "output_type": "display_data"
    }
   ],
   "source": [
    "def show_images(dataset, n=5):\n",
    "    fig, axes = plt.subplots(1, n, figsize=(n*2.5, 2.5))\n",
    "    for ax in axes:\n",
    "        idx = np.random.randint(0, len(dataset))\n",
    "        img, label = dataset[idx]\n",
    "        # img: tensor [C,H,W] in [0,1]\n",
    "        ax.imshow(np.transpose(img.numpy(), (1, 2, 0)))  # HWC\n",
    "        ax.set_title(classes[label])\n",
    "        ax.axis(\"off\")\n",
    "    plt.tight_layout()\n",
    "    plt.show()\n",
    "\n",
    "show_images(train_set, n=3)\n"
   ]
  },
  {
   "cell_type": "markdown",
   "id": "6083a6eb",
   "metadata": {},
   "source": [
    "Now that there is a better understanding of the CIFAR-10 dataset, we can see that it's composed of 60,000 samples. Each sample is an image with a resolution of 32x32 pixels and three color channels: Red, Green, and Blue. The dataset contains images from ten different classes:\n",
    "\n",
    "0. airplane\n",
    "1. automobile\n",
    "2. bird\n",
    "3. cat\n",
    "4. deer\n",
    "5. dog\n",
    "6. frog\n",
    "7. horse\n",
    "8. ship\n",
    "9. truck\n",
    "\n",
    "The normalization of color channels in each image of the __CIFAR-10__ dataset is a fundamental step in data transformation, allowing it to be used for training and testing a deep learning model. This process guarantees a uniform data distribution, which prevents precision issues in floating-point operations and enables optimization algorithms to converge more quickly."
   ]
  },
  {
   "cell_type": "markdown",
   "id": "4494ccc6",
   "metadata": {},
   "source": [
    "\n",
    "> **Reflection (Markdown):** Describe CIFAR‑10 (resolution, channels, number of classes/samples). Include one sentence on why normalization is helpful for training.\n"
   ]
  },
  {
   "cell_type": "markdown",
   "id": "cf1e4294",
   "metadata": {},
   "source": [
    "\n",
    "## Compute Per‑Channel Mean & Standard Deviation\n",
    "\n"
   ]
  },
  {
   "cell_type": "code",
   "execution_count": null,
   "id": "09960dd6",
   "metadata": {},
   "outputs": [
    {
     "data": {
      "text/plain": [
       "('Mean: tensor([0.4914, 0.4822, 0.4465])',\n",
       " 'Standard Deviation: tensor([0.2470, 0.2435, 0.2616])')"
      ]
     },
     "execution_count": 44,
     "metadata": {},
     "output_type": "execute_result"
    }
   ],
   "source": [
    "BATCH_SIZE = 512\n",
    "train_loader = DataLoader(train_set, batch_size=BATCH_SIZE, shuffle=False, num_workers=2, pin_memory=True)\n",
    "\n",
    "channels = 3\n",
    "mean     = torch.zeros(channels)\n",
    "std      = torch.zeros(channels)\n",
    "\n",
    "for i in range(len(train_set)): \n",
    "    tensor, _ = train_set[i]\n",
    "    # Obtaining the mean of each color channel\n",
    "    mean[0] += tensor[0].mean()\n",
    "    mean[1] += tensor[1].mean()\n",
    "    mean[2] += tensor[2].mean()\n",
    "    # Obtaining the squared mean of each channel\n",
    "    std[0]  += (tensor[0] ** 2).mean()\n",
    "    std[1]  += (tensor[1] ** 2).mean()\n",
    "    std[2]  += (tensor[2] ** 2).mean()\n",
    "\n",
    "# Mean calculation\n",
    "mean[0] /= len(train_set)\n",
    "mean[1] /= len(train_set)\n",
    "mean[2] /= len(train_set)\n",
    "# Standard Deviation calculation\n",
    "std[0] = ((std[0]/len(train_set)) - mean[0] ** 2) ** 0.5\n",
    "std[1] = ((std[1]/len(train_set)) - mean[1] ** 2) ** 0.5\n",
    "std[2] = ((std[2]/len(train_set)) - mean[2] ** 2) ** 0.5\n",
    "\n",
    "f\"Mean: {mean}\", f\"Standard Deviation: {std}\"\n"
   ]
  },
  {
   "cell_type": "markdown",
   "id": "aea6a3d1",
   "metadata": {},
   "source": [
    "\n",
    "> Record your computed values here (e.g., `Mean ≈ [0.4914, 0.4822, 0.4465]`, `Std ≈ [0.2470, 0.2435, 0.2616]`). Your numbers should closely match these canonical references.\n"
   ]
  },
  {
   "cell_type": "markdown",
   "id": "b638be5c",
   "metadata": {},
   "source": [
    "\n",
    "## Normalize Datasets Using Computed Stats\n"
   ]
  },
  {
   "cell_type": "code",
   "execution_count": 45,
   "id": "0408fc3d",
   "metadata": {},
   "outputs": [
    {
     "data": {
      "text/plain": [
       "(50000, 10000)"
      ]
     },
     "execution_count": 45,
     "metadata": {},
     "output_type": "execute_result"
    }
   ],
   "source": [
    "normalize = transforms.Normalize(mean=mean.tolist(), std=std.tolist())\n",
    "\n",
    "train_transform = transforms.Compose([\n",
    "    transforms.ToTensor(),\n",
    "    normalize,\n",
    "])\n",
    "\n",
    "test_transform = transforms.Compose([\n",
    "    transforms.ToTensor(),\n",
    "    normalize,\n",
    "])\n",
    "\n",
    "train_set_norm = datasets.CIFAR10(root=DATA_DIR, train=True, download=False, transform=train_transform)\n",
    "test_set_norm  = datasets.CIFAR10(root=DATA_DIR, train=False, download=False, transform=test_transform)\n",
    "\n",
    "len(train_set_norm), len(test_set_norm)\n"
   ]
  },
  {
   "cell_type": "markdown",
   "id": "05fa5466",
   "metadata": {},
   "source": [
    "\n",
    "## Verify Normalization (Means ≈ 0, Stds ≈ 1)\n",
    "\n",
    "Confirm the transformation worked as intended.\n"
   ]
  },
  {
   "cell_type": "code",
   "execution_count": 51,
   "id": "0fa7d0c4",
   "metadata": {},
   "outputs": [
    {
     "data": {
      "text/plain": [
       "('Normalized Mean: tensor([-4.5123e-06, -2.3405e-06, -6.1984e-08])',\n",
       " 'Normalized Std. Deviation: tensor([1.0000, 1.0000, 1.0000])')"
      ]
     },
     "execution_count": 51,
     "metadata": {},
     "output_type": "execute_result"
    }
   ],
   "source": [
    "\n",
    "train_loader_norm = DataLoader(train_set_norm, batch_size=BATCH_SIZE, shuffle=False, num_workers=2, pin_memory=True)\n",
    "\n",
    "channels  = 3\n",
    "mean_norm = torch.zeros(channels)\n",
    "std_norm  = torch.zeros(channels)\n",
    "\n",
    "for i in range(len(train_set_norm)): \n",
    "    norm_tensor, _ = train_set_norm[i]\n",
    "    # Obtaining the mean of each color channel\n",
    "    mean_norm[0] += norm_tensor[0].mean()\n",
    "    mean_norm[1] += norm_tensor[1].mean()\n",
    "    mean_norm[2] += norm_tensor[2].mean()\n",
    "    # Obtaining the squared mean of each channel\n",
    "    std_norm[0]  += (norm_tensor[0] ** 2).mean()\n",
    "    std_norm[1]  += (norm_tensor[1] ** 2).mean()\n",
    "    std_norm[2]  += (norm_tensor[2] ** 2).mean()\n",
    "\n",
    "# Mean calulation\n",
    "mean_norm[0] /= len(train_set_norm)\n",
    "mean_norm[1] /= len(train_set_norm)\n",
    "mean_norm[2] /= len(train_set_norm)\n",
    "# Standard Deviation calculation\n",
    "std_norm[0] = ((std_norm[0]/len(train_set_norm)) - mean_norm[0] ** 2) ** 0.5\n",
    "std_norm[1] = ((std_norm[1]/len(train_set_norm)) - mean_norm[1] ** 2) ** 0.5\n",
    "std_norm[2] = ((std_norm[2]/len(train_set_norm)) - mean_norm[2] ** 2) ** 0.5\n",
    "\n",
    "f\"Normalized Mean: {mean_norm}\", f\"Normalized Std. Deviation: {std_norm}\""
   ]
  },
  {
   "cell_type": "markdown",
   "id": "dcdfc6c9",
   "metadata": {},
   "source": [
    "\n",
    "> Report the post‑normalization means and stds. They should be close to `[0,0,0]` and `[1,1,1]` (small deviations are normal due to rounding/batching).\n"
   ]
  },
  {
   "cell_type": "markdown",
   "id": "aeaa1b48",
   "metadata": {},
   "source": [
    "\n",
    "## Light Data Augmentation\n",
    "Add a few basic augmentations (random crop with padding, random horizontal flip). Use **train** only.\n"
   ]
  },
  {
   "cell_type": "code",
   "execution_count": 52,
   "id": "6fcfe8a2",
   "metadata": {},
   "outputs": [
    {
     "data": {
      "text/plain": [
       "50000"
      ]
     },
     "execution_count": 52,
     "metadata": {},
     "output_type": "execute_result"
    }
   ],
   "source": [
    "\n",
    "aug_transform = transforms.Compose([\n",
    "    transforms.RandomHorizontalFlip(p=0.5),\n",
    "    #anything else you may want to add is welcomed\n",
    "    transforms.RandomCrop(32, padding=4),\n",
    "    transforms.ColorJitter(0.2, 0.2, 0.1),    \n",
    "    transforms.ToTensor(),\n",
    "    normalize,\n",
    "])\n",
    "\n",
    "train_set_aug = datasets.CIFAR10(root=DATA_DIR, train=True, download=False, transform=aug_transform)\n",
    "len(train_set_aug)\n"
   ]
  },
  {
   "cell_type": "markdown",
   "id": "075f932c",
   "metadata": {},
   "source": [
    "\n",
    "> Explain when/why augmentation helps. What risks do heavy augmentations pose for small images like CIFAR‑10 (32×32)?\n"
   ]
  },
  {
   "cell_type": "markdown",
   "id": "a667e6ee",
   "metadata": {},
   "source": [
    "\n",
    "## Class Distribution\n",
    "Confirm class balance. CIFAR‑10 should be balanced across the 10 classes. Create a plot as a visual aid\n"
   ]
  },
  {
   "cell_type": "code",
   "execution_count": 57,
   "id": "51a66123",
   "metadata": {},
   "outputs": [
    {
     "name": "stdout",
     "output_type": "stream",
     "text": [
      "airplane: 5000\n",
      "automobile: 5000\n",
      "bird: 5000\n",
      "cat: 5000\n",
      "deer: 5000\n",
      "dog: 5000\n",
      "frog: 5000\n",
      "horse: 5000\n",
      "ship: 5000\n",
      "truck: 5000\n"
     ]
    },
    {
     "name": "stderr",
     "output_type": "stream",
     "text": [
      "/tmp/ipykernel_33049/2247002818.py:17: FutureWarning: \n",
      "\n",
      "Passing `palette` without assigning `hue` is deprecated and will be removed in v0.14.0. Assign the `x` variable to `hue` and set `legend=False` for the same effect.\n",
      "\n",
      "  sns.barplot(x=classes, y=counts, palette=\"viridis\")\n"
     ]
    },
    {
     "data": {
      "image/png": "[encoded data removed]",
      "text/plain": [
       "<Figure size 1000x500 with 1 Axes>"
      ]
     },
     "metadata": {},
     "output_type": "display_data"
    }
   ],
   "source": [
    "# Nombres de las clases en CIFAR-10\n",
    "classes = train_set.classes  # o datasets.CIFAR10.classes\n",
    "\n",
    "# Contar frecuencia de cada clase en train_set\n",
    "train_labels = [label for _, label in train_set]\n",
    "class_counts = Counter(train_labels)\n",
    "\n",
    "# Ordenamos de acuerdo a los índices de clase\n",
    "counts = [class_counts[i] for i in range(len(classes))]\n",
    "\n",
    "# Mostrar conteo en consola\n",
    "for i, c in enumerate(classes):\n",
    "    print(f\"{c}: {counts[i]}\")\n",
    "\n",
    "# Gráfico de barras\n",
    "plt.figure(figsize=(10,5))\n",
    "sns.barplot(x=classes, y=counts, palette=\"viridis\")\n",
    "plt.title(\"CIFAR-10 Training Set Class Distribution\")\n",
    "plt.xlabel(\"Class\")\n",
    "plt.ylabel(\"Number of Images\")\n",
    "plt.xticks(rotation=45)\n",
    "plt.show()\n"
   ]
  },
  {
   "cell_type": "code",
   "execution_count": 58,
   "id": "864b9d69",
   "metadata": {},
   "outputs": [
    {
     "name": "stdout",
     "output_type": "stream",
     "text": [
      "airplane: 1000\n",
      "automobile: 1000\n",
      "bird: 1000\n",
      "cat: 1000\n",
      "deer: 1000\n",
      "dog: 1000\n",
      "frog: 1000\n",
      "horse: 1000\n",
      "ship: 1000\n",
      "truck: 1000\n"
     ]
    },
    {
     "name": "stderr",
     "output_type": "stream",
     "text": [
      "/tmp/ipykernel_33049/2687129445.py:17: FutureWarning: \n",
      "\n",
      "Passing `palette` without assigning `hue` is deprecated and will be removed in v0.14.0. Assign the `x` variable to `hue` and set `legend=False` for the same effect.\n",
      "\n",
      "  sns.barplot(x=classes, y=counts, palette=\"viridis\")\n"
     ]
    },
    {
     "data": {
      "image/png": "[encoded data removed]",
      "text/plain": [
       "<Figure size 1000x500 with 1 Axes>"
      ]
     },
     "metadata": {},
     "output_type": "display_data"
    }
   ],
   "source": [
    "# Nombres de las clases en CIFAR-10\n",
    "classes = test_set.classes  # o datasets.CIFAR10.classes\n",
    "\n",
    "# Contar frecuencia de cada clase en train_set\n",
    "test_labels = [label for _, label in test_set]\n",
    "class_counts = Counter(test_labels)\n",
    "\n",
    "# Ordenamos de acuerdo a los índices de clase\n",
    "counts = [class_counts[i] for i in range(len(classes))]\n",
    "\n",
    "# Mostrar conteo en consola\n",
    "for i, c in enumerate(classes):\n",
    "    print(f\"{c}: {counts[i]}\")\n",
    "\n",
    "# Gráfico de barras\n",
    "plt.figure(figsize=(10,5))\n",
    "sns.barplot(x=classes, y=counts, palette=\"viridis\")\n",
    "plt.title(\"CIFAR-10 Test Set Class Distribution\")\n",
    "plt.xlabel(\"Class\")\n",
    "plt.ylabel(\"Number of Images\")\n",
    "plt.xticks(rotation=45)\n",
    "plt.show()"
   ]
  },
  {
   "cell_type": "markdown",
   "id": "4dcc34e8",
   "metadata": {},
   "source": [
    "\n",
    "## 9. Submission Checklist\n",
    "- [ ] Printed dataset sizes and showed random sample images.\n",
    "- [ ] Reported per‑channel mean & std from the training set.\n",
    "- [ ] Applied normalization using computed stats.\n",
    "- [ ] Verified post‑normalization mean/std are ~0/1.\n",
    "- [ ] Basic augmentations and rationale.\n"
   ]
  }
 ],
 "metadata": {
  "kernelspec": {
   "display_name": ".venv",
   "language": "python",
   "name": "python3"
  },
  "language_info": {
   "codemirror_mode": {
    "name": "ipython",
    "version": 3
   },
   "file_extension": ".py",
   "mimetype": "text/x-python",
   "name": "python",
   "nbconvert_exporter": "python",
   "pygments_lexer": "ipython3",
   "version": "3.10.12"
  }
 },
 "nbformat": 4,
 "nbformat_minor": 5
}
